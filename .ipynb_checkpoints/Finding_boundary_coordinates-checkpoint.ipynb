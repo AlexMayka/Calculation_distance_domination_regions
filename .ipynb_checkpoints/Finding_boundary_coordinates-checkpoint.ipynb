{
 "cells": [
  {
   "cell_type": "markdown",
   "id": "340417e9",
   "metadata": {},
   "source": [
    "## Поиск координаты границы"
   ]
  },
  {
   "cell_type": "markdown",
   "id": "0726d466",
   "metadata": {},
   "source": [
    "### Скачиваем необходимые библиотеки для работы"
   ]
  },
  {
   "cell_type": "code",
   "execution_count": 2,
   "id": "14b1d54b",
   "metadata": {},
   "outputs": [],
   "source": [
    "#Библиотека для работы с \".json\"-файлами\n",
    "import json \n",
    "#Библиотека для обработки и анализа данных\n",
    "import pandas as pd\n",
    "#Библиотека для работы с многомерными массивами\n",
    "import numpy as np"
   ]
  },
  {
   "cell_type": "code",
   "execution_count": 3,
   "id": "8553954b",
   "metadata": {},
   "outputs": [],
   "source": [
    "# Считываем файл с координатами всех регионов\n",
    "with open('data//gadm41_RUS_1.json', encoding = 'utf-8') as js:\n",
    "    dict_coordin_border = json.load(js)"
   ]
  },
  {
   "cell_type": "markdown",
   "id": "8992db31",
   "metadata": {},
   "source": [
    "### Просмотрим данные и выберим нужные координаты"
   ]
  },
  {
   "cell_type": "code",
   "execution_count": null,
   "id": "9d787167",
   "metadata": {},
   "outputs": [],
   "source": [
    "dict_coordin_border"
   ]
  },
  {
   "cell_type": "code",
   "execution_count": null,
   "id": "83b19095",
   "metadata": {},
   "outputs": [],
   "source": [
    "df_coord_reg = pd.DataFrame()\n",
    "sequence_number = 0\n",
    "\n",
    "for regions in dict_coordin_border['features']:\n",
    "    #Ставим условия для поля названия субъектов\n",
    "    if regions['properties']['NL_NAME_1'] in ['Воронежскаяобласть',\n",
    "                                              'Брянскаяобласть',\n",
    "                                              'Курскаяобласть',\n",
    "                                              'Ростовскаяобласть', \n",
    "                                              'Белгородскаяобласть']:\n",
    "        \n",
    "        for list_coordin_lv_1 in regions['geometry']['coordinates']:\n",
    "            for list_coordin_lv_2 in list_coordin_lv_1:\n",
    "                for list_coordin_finish_lvl in list_coordin_lv_2:\n",
    "                    #Заполняем df: Название региона, координаты точки границы, порядковый номер записи, цвет региона\n",
    "                    if regions['properties']['NL_NAME_1'] == 'Воронежскаяобласть': color = 'purple'\n",
    "                    elif regions['properties']['NL_NAME_1'] == 'Брянскаяобласть': color = 'white'\n",
    "                    elif regions['properties']['NL_NAME_1'] == 'Курскаяобласть': color = 'blue'\n",
    "                    elif regions['properties']['NL_NAME_1'] == 'Ростовскаяобласть': color = 'yellow'\n",
    "                    elif regions['properties']['NL_NAME_1'] == 'Белгородскаяобласть': color = 'red'\n",
    "                        \n",
    "                    df_coord_reg = df_coord_reg.append({'region': regions['properties']['NL_NAME_1'], #Название региона\n",
    "                                                        'lon': list_coordin_finish_lvl[0], #Долгота точки границы\n",
    "                                                        'lat': list_coordin_finish_lvl[1], #Широта точки границы\n",
    "                                                        'sequence_number': str(sequence_number), #Порядковый номер записи\n",
    "                                                        'color': color}, #Цвет региона \n",
    "                                                       ignore_index = True)\n",
    "                    sequence_number += 1\n"
   ]
  },
  {
   "cell_type": "markdown",
   "id": "edef4e21",
   "metadata": {},
   "source": [
    "### Нанесем точки на географическую карту"
   ]
  },
  {
   "cell_type": "code",
   "execution_count": null,
   "id": "41a8f763",
   "metadata": {},
   "outputs": [],
   "source": [
    "#Импортируем библиотеки для визуализации данных\n",
    "import plotly.graph_objs as go\n",
    "from plotly.graph_objs import Scatter, Figure, Layout\n",
    "\n",
    "#Визуализируем на карте точки с координатами для проверки и дальнейшего анализа\n",
    "\n",
    "fig = go.Figure(data=go.Scattergeo(                       #Scattergeo - данные, визуализируемые в виде точек географической карте\n",
    "                  lon = df_coord_reg['lon'],              #Долгота точки\n",
    "                  lat = df_coord_reg['lat'],              #Широта точки\n",
    "                  mode = 'markers',                       #Вид точки\n",
    "                  marker_color  = df_coord_reg['color'],  #Цвет точки\n",
    "                  text = df_coord_reg['region'] + ' ' + df_coord_reg['sequence_number']  #Текст при наведении на точку\n",
    "                )\n",
    "            )\n",
    "\n",
    "fig.update_layout(\n",
    "        title = 'Субъекты РФ граничащие с Украиной ',      #Задаем название карты\n",
    "        geo = dict(\n",
    "            scope='europe',                                #Шаблон карты \n",
    "            landcolor = \"green\",                           #Цвет для стран\n",
    "            countrycolor = \"black\",                        #Цвет границ между странами\n",
    "        ),\n",
    "    )\n"
   ]
  },
  {
   "cell_type": "markdown",
   "id": "1669884d",
   "metadata": {},
   "source": [
    "### Выбираем координаты, которые находятся на границе"
   ]
  },
  {
   "cell_type": "code",
   "execution_count": 7,
   "id": "8e1ba182",
   "metadata": {},
   "outputs": [],
   "source": [
    "#Исходя из карты, выбираем следующие срезы df и записываем их в новую переменную \n",
    "df_coord_border = pd.concat([df_coord_reg[11:411], \n",
    "                             df_coord_reg[1278:1459], \n",
    "                             df_coord_reg[974:1226], \n",
    "                             df_coord_reg[3084:3157],\n",
    "                             df_coord_reg[2004:2413]])\n"
   ]
  },
  {
   "cell_type": "code",
   "execution_count": null,
   "id": "32142177",
   "metadata": {},
   "outputs": [],
   "source": [
    "#Визуально проверяем полученный dataframe\n",
    "\n",
    "fig = go.Figure(data=go.Scattergeo(lon = df_coord_border['lon'], \n",
    "                                   lat = df_coord_border['lat'], \n",
    "                                   mode = 'markers',\n",
    "                                   marker_color  = df_coord_border['color'],\n",
    "                                   text = df_coord_border['region'] + ' ' + df_coord_border['sequence_number']))\n",
    "fig.update_layout(\n",
    "        title = 'Граница между Россией и Украиной',\n",
    "        geo = dict(\n",
    "            scope='europe',                                #Область карты \n",
    "            landcolor = \"green\",                           #Цвет для стран\n",
    "            countrycolor = \"black\",                        #Граница стран\n",
    "        ),\n",
    "    )\n"
   ]
  },
  {
   "cell_type": "markdown",
   "id": "e326f8b7",
   "metadata": {},
   "source": [
    "### Сохраним полученные данные в файл"
   ]
  },
  {
   "cell_type": "code",
   "execution_count": 9,
   "id": "ea46797f",
   "metadata": {},
   "outputs": [],
   "source": [
    "#Сохраняем данные в json\n",
    "df_coord_border[['lon', 'lat']].to_json('data//border.json')"
   ]
  },
  {
   "cell_type": "code",
   "execution_count": null,
   "id": "de02a354",
   "metadata": {},
   "outputs": [],
   "source": []
  }
 ],
 "metadata": {
  "kernelspec": {
   "display_name": "Python 3 (ipykernel)",
   "language": "python",
   "name": "python3"
  },
  "language_info": {
   "codemirror_mode": {
    "name": "ipython",
    "version": 3
   },
   "file_extension": ".py",
   "mimetype": "text/x-python",
   "name": "python",
   "nbconvert_exporter": "python",
   "pygments_lexer": "ipython3",
   "version": "3.9.13"
  }
 },
 "nbformat": 4,
 "nbformat_minor": 5
}
