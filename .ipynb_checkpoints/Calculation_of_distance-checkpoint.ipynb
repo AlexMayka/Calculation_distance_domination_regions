{
 "cells": [
  {
   "cell_type": "markdown",
   "id": "98f1c394",
   "metadata": {},
   "source": [
    "## Расчет расстояния до адреса до границы"
   ]
  },
  {
   "cell_type": "markdown",
   "id": "75825324",
   "metadata": {},
   "source": [
    "### Скачиваем библиотеки"
   ]
  },
  {
   "cell_type": "code",
   "execution_count": null,
   "id": "c5ecab55",
   "metadata": {},
   "outputs": [],
   "source": [
    "!pip install geopy\n",
    "!pip install tqdm"
   ]
  },
  {
   "cell_type": "markdown",
   "id": "86deca34",
   "metadata": {},
   "source": [
    "### Импортируем библиотеки"
   ]
  },
  {
   "cell_type": "code",
   "execution_count": 1,
   "id": "ab27887d",
   "metadata": {},
   "outputs": [],
   "source": [
    "import pandas as pd\n",
    "from geopy.distance import geodesic as GD \n",
    "import json\n",
    "from tqdm import tqdm"
   ]
  },
  {
   "cell_type": "markdown",
   "id": "6de5fa01",
   "metadata": {},
   "source": [
    "### Ипортируем данные с координатами"
   ]
  },
  {
   "cell_type": "code",
   "execution_count": 11,
   "id": "a99e2a98",
   "metadata": {},
   "outputs": [],
   "source": [
    "with open(\"data/adress_coord.json\", 'r', encoding='utf-8-sig') as ad_cor:\n",
    "    adress_coord_dict = json.load(ad_cor)\n",
    "    \n",
    "border_coord_df = pd.read_json(\"data//border.json\")"
   ]
  },
  {
   "cell_type": "code",
   "execution_count": 12,
   "id": "0ea1e58d",
   "metadata": {},
   "outputs": [
    {
     "data": {
      "text/html": [
       "<div>\n",
       "<style scoped>\n",
       "    .dataframe tbody tr th:only-of-type {\n",
       "        vertical-align: middle;\n",
       "    }\n",
       "\n",
       "    .dataframe tbody tr th {\n",
       "        vertical-align: top;\n",
       "    }\n",
       "\n",
       "    .dataframe thead th {\n",
       "        text-align: right;\n",
       "    }\n",
       "</style>\n",
       "<table border=\"1\" class=\"dataframe\">\n",
       "  <thead>\n",
       "    <tr style=\"text-align: right;\">\n",
       "      <th></th>\n",
       "      <th>lon</th>\n",
       "      <th>lat</th>\n",
       "    </tr>\n",
       "  </thead>\n",
       "  <tbody>\n",
       "    <tr>\n",
       "      <th>11</th>\n",
       "      <td>39.2300</td>\n",
       "      <td>49.8384</td>\n",
       "    </tr>\n",
       "    <tr>\n",
       "      <th>12</th>\n",
       "      <td>39.2218</td>\n",
       "      <td>49.8444</td>\n",
       "    </tr>\n",
       "    <tr>\n",
       "      <th>13</th>\n",
       "      <td>39.2224</td>\n",
       "      <td>49.8498</td>\n",
       "    </tr>\n",
       "    <tr>\n",
       "      <th>14</th>\n",
       "      <td>39.2136</td>\n",
       "      <td>49.8503</td>\n",
       "    </tr>\n",
       "    <tr>\n",
       "      <th>15</th>\n",
       "      <td>39.2142</td>\n",
       "      <td>49.8557</td>\n",
       "    </tr>\n",
       "  </tbody>\n",
       "</table>\n",
       "</div>"
      ],
      "text/plain": [
       "        lon      lat\n",
       "11  39.2300  49.8384\n",
       "12  39.2218  49.8444\n",
       "13  39.2224  49.8498\n",
       "14  39.2136  49.8503\n",
       "15  39.2142  49.8557"
      ]
     },
     "execution_count": 12,
     "metadata": {},
     "output_type": "execute_result"
    }
   ],
   "source": [
    "border_coord_df.head()"
   ]
  },
  {
   "cell_type": "markdown",
   "id": "40933c43",
   "metadata": {},
   "source": [
    "### Для удобства словарь с координатами адресов преобразуем в df"
   ]
  },
  {
   "cell_type": "code",
   "execution_count": 13,
   "id": "4fd90763",
   "metadata": {},
   "outputs": [],
   "source": [
    "atress_coord_df = pd.DataFrame(adress_coord_dict.items(), columns=['adress', 'coord'])"
   ]
  },
  {
   "cell_type": "code",
   "execution_count": 14,
   "id": "d6fa8a75",
   "metadata": {},
   "outputs": [
    {
     "data": {
      "text/html": [
       "<div>\n",
       "<style scoped>\n",
       "    .dataframe tbody tr th:only-of-type {\n",
       "        vertical-align: middle;\n",
       "    }\n",
       "\n",
       "    .dataframe tbody tr th {\n",
       "        vertical-align: top;\n",
       "    }\n",
       "\n",
       "    .dataframe thead th {\n",
       "        text-align: right;\n",
       "    }\n",
       "</style>\n",
       "<table border=\"1\" class=\"dataframe\">\n",
       "  <thead>\n",
       "    <tr style=\"text-align: right;\">\n",
       "      <th></th>\n",
       "      <th>adress</th>\n",
       "      <th>coord</th>\n",
       "    </tr>\n",
       "  </thead>\n",
       "  <tbody>\n",
       "    <tr>\n",
       "      <th>0</th>\n",
       "      <td>Белгородская область, г. Белгород, ул. Серафим...</td>\n",
       "      <td>50.587197, 36.620164</td>\n",
       "    </tr>\n",
       "    <tr>\n",
       "      <th>1</th>\n",
       "      <td>Белгородская область, г Белгорд, ул имени Шуми...</td>\n",
       "      <td>50.565706, 36.604434</td>\n",
       "    </tr>\n",
       "    <tr>\n",
       "      <th>2</th>\n",
       "      <td>Белгородская область, г Белгород, ул генерала-...</td>\n",
       "      <td>50.595414, 36.587277</td>\n",
       "    </tr>\n",
       "    <tr>\n",
       "      <th>3</th>\n",
       "      <td>307170, Курская область, г. Железногорск, ул. ...</td>\n",
       "      <td>52.339203, 35.350871</td>\n",
       "    </tr>\n",
       "    <tr>\n",
       "      <th>4</th>\n",
       "      <td>курская обл. п. Тим ул. Юбилейная д.34</td>\n",
       "      <td>51.627241, 37.129500</td>\n",
       "    </tr>\n",
       "    <tr>\n",
       "      <th>...</th>\n",
       "      <td>...</td>\n",
       "      <td>...</td>\n",
       "    </tr>\n",
       "    <tr>\n",
       "      <th>496</th>\n",
       "      <td>Курская область, п. Черемушки 23 кв 19 обл, Ку...</td>\n",
       "      <td>51.604682, 36.255619</td>\n",
       "    </tr>\n",
       "    <tr>\n",
       "      <th>497</th>\n",
       "      <td>Белгородская обл., Белгородский р-н, с. Севрюк...</td>\n",
       "      <td>50.631932, 36.741526</td>\n",
       "    </tr>\n",
       "    <tr>\n",
       "      <th>498</th>\n",
       "      <td>Курская обл., г. Курск, пер. 2-й Стрелецкий, д...</td>\n",
       "      <td>51.727455, 36.214979</td>\n",
       "    </tr>\n",
       "    <tr>\n",
       "      <th>499</th>\n",
       "      <td>Курская обл., г. Курск, проспект Вячеслава Клы...</td>\n",
       "      <td>51.726205, 36.140239</td>\n",
       "    </tr>\n",
       "    <tr>\n",
       "      <th>500</th>\n",
       "      <td>Белгородская область, р-н Новооскольский, г. Н...</td>\n",
       "      <td>50.781539, 37.879090</td>\n",
       "    </tr>\n",
       "  </tbody>\n",
       "</table>\n",
       "<p>501 rows × 2 columns</p>\n",
       "</div>"
      ],
      "text/plain": [
       "                                                adress                 coord\n",
       "0    Белгородская область, г. Белгород, ул. Серафим...  50.587197, 36.620164\n",
       "1    Белгородская область, г Белгорд, ул имени Шуми...  50.565706, 36.604434\n",
       "2    Белгородская область, г Белгород, ул генерала-...  50.595414, 36.587277\n",
       "3    307170, Курская область, г. Железногорск, ул. ...  52.339203, 35.350871\n",
       "4               курская обл. п. Тим ул. Юбилейная д.34  51.627241, 37.129500\n",
       "..                                                 ...                   ...\n",
       "496  Курская область, п. Черемушки 23 кв 19 обл, Ку...  51.604682, 36.255619\n",
       "497  Белгородская обл., Белгородский р-н, с. Севрюк...  50.631932, 36.741526\n",
       "498  Курская обл., г. Курск, пер. 2-й Стрелецкий, д...  51.727455, 36.214979\n",
       "499  Курская обл., г. Курск, проспект Вячеслава Клы...  51.726205, 36.140239\n",
       "500  Белгородская область, р-н Новооскольский, г. Н...  50.781539, 37.879090\n",
       "\n",
       "[501 rows x 2 columns]"
      ]
     },
     "execution_count": 14,
     "metadata": {},
     "output_type": "execute_result"
    }
   ],
   "source": [
    "atress_coord_df"
   ]
  },
  {
   "cell_type": "markdown",
   "id": "5275c07a",
   "metadata": {},
   "source": [
    "### Преобразуем координаты границы в список"
   ]
  },
  {
   "cell_type": "code",
   "execution_count": 15,
   "id": "34fd9c38",
   "metadata": {},
   "outputs": [],
   "source": [
    "list_border_coord = list([(row['lat'], row['lon']) for index, row in border_coord_df.iterrows()])"
   ]
  },
  {
   "cell_type": "code",
   "execution_count": 16,
   "id": "e464318c",
   "metadata": {},
   "outputs": [
    {
     "data": {
      "text/plain": [
       "[(49.8384, 39.23),\n",
       " (49.8444, 39.2218),\n",
       " (49.8498, 39.2224),\n",
       " (49.8503, 39.2136),\n",
       " (49.8557, 39.2142),\n",
       " (49.8617, 39.2059),\n",
       " (49.8622, 39.1971),\n",
       " (49.8676, 39.1976),\n",
       " (49.8735, 39.1893),\n",
       " (49.8794, 39.1865)]"
      ]
     },
     "execution_count": 16,
     "metadata": {},
     "output_type": "execute_result"
    }
   ],
   "source": [
    "list_border_coord[0:10]"
   ]
  },
  {
   "cell_type": "code",
   "execution_count": 17,
   "id": "8d534f61",
   "metadata": {},
   "outputs": [],
   "source": [
    "def distance_calculation(start_coord):\n",
    "    list_dist = []\n",
    "    for bord_coord in list_border_coord:\n",
    "        #Для расчета расстояния используем функцию GD([1 координата точки],[2 координата точки].[единица измерения расстояния])\n",
    "        dist = GD(start_coord, bord_coord).km\n",
    "        #Добовляем в список результат\n",
    "        list_dist.append(dist)\n",
    "    \n",
    "    #Возвращаем минимальную дистанцию из списке\n",
    "    return min(list_dist)"
   ]
  },
  {
   "cell_type": "code",
   "execution_count": 18,
   "id": "3644c786",
   "metadata": {},
   "outputs": [
    {
     "name": "stderr",
     "output_type": "stream",
     "text": [
      "100%|████████████████████████████████████████████████████████████████████████████████| 501/501 [02:10<00:00,  3.84it/s]\n"
     ]
    }
   ],
   "source": [
    "tqdm.pandas()\n",
    "atress_coord_df['dist_to_bor'] = atress_coord_df['coord'].progress_apply(lambda x: distance_calculation(x))"
   ]
  },
  {
   "cell_type": "markdown",
   "id": "5d8b7001",
   "metadata": {},
   "source": [
    "### Просматриваем и проверяем результат"
   ]
  },
  {
   "cell_type": "code",
   "execution_count": 19,
   "id": "5300523c",
   "metadata": {},
   "outputs": [
    {
     "data": {
      "text/html": [
       "<div>\n",
       "<style scoped>\n",
       "    .dataframe tbody tr th:only-of-type {\n",
       "        vertical-align: middle;\n",
       "    }\n",
       "\n",
       "    .dataframe tbody tr th {\n",
       "        vertical-align: top;\n",
       "    }\n",
       "\n",
       "    .dataframe thead th {\n",
       "        text-align: right;\n",
       "    }\n",
       "</style>\n",
       "<table border=\"1\" class=\"dataframe\">\n",
       "  <thead>\n",
       "    <tr style=\"text-align: right;\">\n",
       "      <th></th>\n",
       "      <th>adress</th>\n",
       "      <th>coord</th>\n",
       "      <th>dist_to_bor</th>\n",
       "    </tr>\n",
       "  </thead>\n",
       "  <tbody>\n",
       "    <tr>\n",
       "      <th>0</th>\n",
       "      <td>Белгородская область, г. Белгород, ул. Серафим...</td>\n",
       "      <td>50.587197, 36.620164</td>\n",
       "      <td>30.275355</td>\n",
       "    </tr>\n",
       "    <tr>\n",
       "      <th>1</th>\n",
       "      <td>Белгородская область, г Белгорд, ул имени Шуми...</td>\n",
       "      <td>50.565706, 36.604434</td>\n",
       "      <td>27.640944</td>\n",
       "    </tr>\n",
       "    <tr>\n",
       "      <th>2</th>\n",
       "      <td>Белгородская область, г Белгород, ул генерала-...</td>\n",
       "      <td>50.595414, 36.587277</td>\n",
       "      <td>30.340558</td>\n",
       "    </tr>\n",
       "    <tr>\n",
       "      <th>3</th>\n",
       "      <td>307170, Курская область, г. Железногорск, ул. ...</td>\n",
       "      <td>52.339203, 35.350871</td>\n",
       "      <td>85.145191</td>\n",
       "    </tr>\n",
       "    <tr>\n",
       "      <th>4</th>\n",
       "      <td>курская обл. п. Тим ул. Юбилейная д.34</td>\n",
       "      <td>51.627241, 37.129500</td>\n",
       "      <td>134.815118</td>\n",
       "    </tr>\n",
       "    <tr>\n",
       "      <th>...</th>\n",
       "      <td>...</td>\n",
       "      <td>...</td>\n",
       "      <td>...</td>\n",
       "    </tr>\n",
       "    <tr>\n",
       "      <th>496</th>\n",
       "      <td>Курская область, п. Черемушки 23 кв 19 обл, Ку...</td>\n",
       "      <td>51.604682, 36.255619</td>\n",
       "      <td>84.349008</td>\n",
       "    </tr>\n",
       "    <tr>\n",
       "      <th>497</th>\n",
       "      <td>Белгородская обл., Белгородский р-н, с. Севрюк...</td>\n",
       "      <td>50.631932, 36.741526</td>\n",
       "      <td>33.966367</td>\n",
       "    </tr>\n",
       "    <tr>\n",
       "      <th>498</th>\n",
       "      <td>Курская обл., г. Курск, пер. 2-й Стрелецкий, д...</td>\n",
       "      <td>51.727455, 36.214979</td>\n",
       "      <td>92.868262</td>\n",
       "    </tr>\n",
       "    <tr>\n",
       "      <th>499</th>\n",
       "      <td>Курская обл., г. Курск, проспект Вячеслава Клы...</td>\n",
       "      <td>51.726205, 36.140239</td>\n",
       "      <td>89.727109</td>\n",
       "    </tr>\n",
       "    <tr>\n",
       "      <th>500</th>\n",
       "      <td>Белгородская область, р-н Новооскольский, г. Н...</td>\n",
       "      <td>50.781539, 37.879090</td>\n",
       "      <td>47.251647</td>\n",
       "    </tr>\n",
       "  </tbody>\n",
       "</table>\n",
       "<p>501 rows × 3 columns</p>\n",
       "</div>"
      ],
      "text/plain": [
       "                                                adress                 coord  \\\n",
       "0    Белгородская область, г. Белгород, ул. Серафим...  50.587197, 36.620164   \n",
       "1    Белгородская область, г Белгорд, ул имени Шуми...  50.565706, 36.604434   \n",
       "2    Белгородская область, г Белгород, ул генерала-...  50.595414, 36.587277   \n",
       "3    307170, Курская область, г. Железногорск, ул. ...  52.339203, 35.350871   \n",
       "4               курская обл. п. Тим ул. Юбилейная д.34  51.627241, 37.129500   \n",
       "..                                                 ...                   ...   \n",
       "496  Курская область, п. Черемушки 23 кв 19 обл, Ку...  51.604682, 36.255619   \n",
       "497  Белгородская обл., Белгородский р-н, с. Севрюк...  50.631932, 36.741526   \n",
       "498  Курская обл., г. Курск, пер. 2-й Стрелецкий, д...  51.727455, 36.214979   \n",
       "499  Курская обл., г. Курск, проспект Вячеслава Клы...  51.726205, 36.140239   \n",
       "500  Белгородская область, р-н Новооскольский, г. Н...  50.781539, 37.879090   \n",
       "\n",
       "     dist_to_bor  \n",
       "0      30.275355  \n",
       "1      27.640944  \n",
       "2      30.340558  \n",
       "3      85.145191  \n",
       "4     134.815118  \n",
       "..           ...  \n",
       "496    84.349008  \n",
       "497    33.966367  \n",
       "498    92.868262  \n",
       "499    89.727109  \n",
       "500    47.251647  \n",
       "\n",
       "[501 rows x 3 columns]"
      ]
     },
     "execution_count": 19,
     "metadata": {},
     "output_type": "execute_result"
    }
   ],
   "source": [
    "atress_coord_df"
   ]
  },
  {
   "cell_type": "code",
   "execution_count": null,
   "id": "b889482a",
   "metadata": {},
   "outputs": [],
   "source": []
  }
 ],
 "metadata": {
  "kernelspec": {
   "display_name": "Python 3 (ipykernel)",
   "language": "python",
   "name": "python3"
  },
  "language_info": {
   "codemirror_mode": {
    "name": "ipython",
    "version": 3
   },
   "file_extension": ".py",
   "mimetype": "text/x-python",
   "name": "python",
   "nbconvert_exporter": "python",
   "pygments_lexer": "ipython3",
   "version": "3.9.13"
  }
 },
 "nbformat": 4,
 "nbformat_minor": 5
}
