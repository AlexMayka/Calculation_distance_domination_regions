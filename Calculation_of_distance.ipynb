{
 "cells": [
  {
   "cell_type": "markdown",
   "id": "98f1c394",
   "metadata": {},
   "source": [
    "## Расчет расстояния до адреса до границы"
   ]
  },
  {
   "cell_type": "markdown",
   "id": "75825324",
   "metadata": {},
   "source": [
    "### Скачиваем библиотеки"
   ]
  },
  {
   "cell_type": "code",
   "execution_count": null,
   "id": "c5ecab55",
   "metadata": {},
   "outputs": [],
   "source": [
    "!pip install geopy\n",
    "!pip install tqdm"
   ]
  },
  {
   "cell_type": "markdown",
   "id": "86deca34",
   "metadata": {},
   "source": [
    "### Импортируем библиотеки"
   ]
  },
  {
   "cell_type": "code",
   "execution_count": 5,
   "id": "ab27887d",
   "metadata": {},
   "outputs": [],
   "source": [
    "#Импортируем библиотеки\n",
    "import pandas as pd\n",
    "from geopy.distance import geodesic as GD \n",
    "import json\n",
    "from tqdm import tqdm"
   ]
  },
  {
   "cell_type": "markdown",
   "id": "6de5fa01",
   "metadata": {},
   "source": [
    "### Ипортируем данные с координатами"
   ]
  },
  {
   "cell_type": "code",
   "execution_count": 6,
   "id": "a99e2a98",
   "metadata": {},
   "outputs": [],
   "source": [
    "#Ипортируем данные с координатами\n",
    "with open(\"data/adress_coord.json\", 'r', encoding='utf-8-sig') as ad_cor:\n",
    "    adress_coord_dict = json.load(ad_cor)\n",
    "    \n",
    "border_coord_df = pd.read_json(\"data//border.json\")"
   ]
  },
  {
   "cell_type": "code",
   "execution_count": 7,
   "id": "0ea1e58d",
   "metadata": {},
   "outputs": [
    {
     "data": {
      "text/plain": "        lon      lat\n11  39.2300  49.8384\n12  39.2218  49.8444\n13  39.2224  49.8498\n14  39.2136  49.8503\n15  39.2142  49.8557",
      "text/html": "<div>\n<style scoped>\n    .dataframe tbody tr th:only-of-type {\n        vertical-align: middle;\n    }\n\n    .dataframe tbody tr th {\n        vertical-align: top;\n    }\n\n    .dataframe thead th {\n        text-align: right;\n    }\n</style>\n<table border=\"1\" class=\"dataframe\">\n  <thead>\n    <tr style=\"text-align: right;\">\n      <th></th>\n      <th>lon</th>\n      <th>lat</th>\n    </tr>\n  </thead>\n  <tbody>\n    <tr>\n      <th>11</th>\n      <td>39.2300</td>\n      <td>49.8384</td>\n    </tr>\n    <tr>\n      <th>12</th>\n      <td>39.2218</td>\n      <td>49.8444</td>\n    </tr>\n    <tr>\n      <th>13</th>\n      <td>39.2224</td>\n      <td>49.8498</td>\n    </tr>\n    <tr>\n      <th>14</th>\n      <td>39.2136</td>\n      <td>49.8503</td>\n    </tr>\n    <tr>\n      <th>15</th>\n      <td>39.2142</td>\n      <td>49.8557</td>\n    </tr>\n  </tbody>\n</table>\n</div>"
     },
     "execution_count": 7,
     "metadata": {},
     "output_type": "execute_result"
    }
   ],
   "source": [
    "border_coord_df.head()"
   ]
  },
  {
   "cell_type": "markdown",
   "id": "40933c43",
   "metadata": {},
   "source": [
    "### Для удобства словарь с координатами адресов преобразуем в df"
   ]
  },
  {
   "cell_type": "code",
   "execution_count": 8,
   "id": "4fd90763",
   "metadata": {},
   "outputs": [],
   "source": [
    "atress_coord_df = pd.DataFrame(adress_coord_dict.items(), columns=['adress', 'coord'])"
   ]
  },
  {
   "cell_type": "code",
   "execution_count": 9,
   "id": "d6fa8a75",
   "metadata": {},
   "outputs": [
    {
     "data": {
      "text/plain": "                                                adress                 coord\n0    Белгородская область, г. Белгород, ул. Серафим...  50.587197, 36.620164\n1    Белгородская область, г Белгорд, ул имени Шуми...  50.565706, 36.604434\n2    Белгородская область, г Белгород, ул генерала-...  50.595414, 36.587277\n3    307170, Курская область, г. Железногорск, ул. ...  52.339203, 35.350871\n4               курская обл. п. Тим ул. Юбилейная д.34  51.627241, 37.129500\n..                                                 ...                   ...\n496  Курская область, п. Черемушки 23 кв 19 обл, Ку...  51.604682, 36.255619\n497  Белгородская обл., Белгородский р-н, с. Севрюк...  50.631932, 36.741526\n498  Курская обл., г. Курск, пер. 2-й Стрелецкий, д...  51.727455, 36.214979\n499  Курская обл., г. Курск, проспект Вячеслава Клы...  51.726205, 36.140239\n500  Белгородская область, р-н Новооскольский, г. Н...  50.781539, 37.879090\n\n[501 rows x 2 columns]",
      "text/html": "<div>\n<style scoped>\n    .dataframe tbody tr th:only-of-type {\n        vertical-align: middle;\n    }\n\n    .dataframe tbody tr th {\n        vertical-align: top;\n    }\n\n    .dataframe thead th {\n        text-align: right;\n    }\n</style>\n<table border=\"1\" class=\"dataframe\">\n  <thead>\n    <tr style=\"text-align: right;\">\n      <th></th>\n      <th>adress</th>\n      <th>coord</th>\n    </tr>\n  </thead>\n  <tbody>\n    <tr>\n      <th>0</th>\n      <td>Белгородская область, г. Белгород, ул. Серафим...</td>\n      <td>50.587197, 36.620164</td>\n    </tr>\n    <tr>\n      <th>1</th>\n      <td>Белгородская область, г Белгорд, ул имени Шуми...</td>\n      <td>50.565706, 36.604434</td>\n    </tr>\n    <tr>\n      <th>2</th>\n      <td>Белгородская область, г Белгород, ул генерала-...</td>\n      <td>50.595414, 36.587277</td>\n    </tr>\n    <tr>\n      <th>3</th>\n      <td>307170, Курская область, г. Железногорск, ул. ...</td>\n      <td>52.339203, 35.350871</td>\n    </tr>\n    <tr>\n      <th>4</th>\n      <td>курская обл. п. Тим ул. Юбилейная д.34</td>\n      <td>51.627241, 37.129500</td>\n    </tr>\n    <tr>\n      <th>...</th>\n      <td>...</td>\n      <td>...</td>\n    </tr>\n    <tr>\n      <th>496</th>\n      <td>Курская область, п. Черемушки 23 кв 19 обл, Ку...</td>\n      <td>51.604682, 36.255619</td>\n    </tr>\n    <tr>\n      <th>497</th>\n      <td>Белгородская обл., Белгородский р-н, с. Севрюк...</td>\n      <td>50.631932, 36.741526</td>\n    </tr>\n    <tr>\n      <th>498</th>\n      <td>Курская обл., г. Курск, пер. 2-й Стрелецкий, д...</td>\n      <td>51.727455, 36.214979</td>\n    </tr>\n    <tr>\n      <th>499</th>\n      <td>Курская обл., г. Курск, проспект Вячеслава Клы...</td>\n      <td>51.726205, 36.140239</td>\n    </tr>\n    <tr>\n      <th>500</th>\n      <td>Белгородская область, р-н Новооскольский, г. Н...</td>\n      <td>50.781539, 37.879090</td>\n    </tr>\n  </tbody>\n</table>\n<p>501 rows × 2 columns</p>\n</div>"
     },
     "execution_count": 9,
     "metadata": {},
     "output_type": "execute_result"
    }
   ],
   "source": [
    "atress_coord_df"
   ]
  },
  {
   "cell_type": "markdown",
   "id": "5275c07a",
   "metadata": {},
   "source": [
    "### Преобразуем координаты границы в список"
   ]
  },
  {
   "cell_type": "code",
   "execution_count": 10,
   "id": "34fd9c38",
   "metadata": {},
   "outputs": [],
   "source": [
    "list_border_coord = list([(row['lat'], row['lon']) for index, row in border_coord_df.iterrows()])"
   ]
  },
  {
   "cell_type": "code",
   "execution_count": 11,
   "outputs": [
    {
     "data": {
      "text/plain": "                                              adress                 coord\n0  Белгородская область, г. Белгород, ул. Серафим...  50.587197, 36.620164\n1  Белгородская область, г Белгорд, ул имени Шуми...  50.565706, 36.604434\n2  Белгородская область, г Белгород, ул генерала-...  50.595414, 36.587277\n3  307170, Курская область, г. Железногорск, ул. ...  52.339203, 35.350871\n4             курская обл. п. Тим ул. Юбилейная д.34  51.627241, 37.129500\n5  396650, Воронежская область, г Россошь, ул Л.Т...  50.203872, 39.566270\n6  307170, Курская область, г ЖЕЛЕЗНОГОРСК, ул Ко...  52.333051, 35.356863\n7  396700, Воронежская область, р-н Кантемировски...  49.970266, 39.705482\n8  307170, Курская область, р-н Железногорский, г...  52.344326, 35.354797\n9  309500, Белгородская область, р-н Старооскольс...  51.283537, 37.834399",
      "text/html": "<div>\n<style scoped>\n    .dataframe tbody tr th:only-of-type {\n        vertical-align: middle;\n    }\n\n    .dataframe tbody tr th {\n        vertical-align: top;\n    }\n\n    .dataframe thead th {\n        text-align: right;\n    }\n</style>\n<table border=\"1\" class=\"dataframe\">\n  <thead>\n    <tr style=\"text-align: right;\">\n      <th></th>\n      <th>adress</th>\n      <th>coord</th>\n    </tr>\n  </thead>\n  <tbody>\n    <tr>\n      <th>0</th>\n      <td>Белгородская область, г. Белгород, ул. Серафим...</td>\n      <td>50.587197, 36.620164</td>\n    </tr>\n    <tr>\n      <th>1</th>\n      <td>Белгородская область, г Белгорд, ул имени Шуми...</td>\n      <td>50.565706, 36.604434</td>\n    </tr>\n    <tr>\n      <th>2</th>\n      <td>Белгородская область, г Белгород, ул генерала-...</td>\n      <td>50.595414, 36.587277</td>\n    </tr>\n    <tr>\n      <th>3</th>\n      <td>307170, Курская область, г. Железногорск, ул. ...</td>\n      <td>52.339203, 35.350871</td>\n    </tr>\n    <tr>\n      <th>4</th>\n      <td>курская обл. п. Тим ул. Юбилейная д.34</td>\n      <td>51.627241, 37.129500</td>\n    </tr>\n    <tr>\n      <th>5</th>\n      <td>396650, Воронежская область, г Россошь, ул Л.Т...</td>\n      <td>50.203872, 39.566270</td>\n    </tr>\n    <tr>\n      <th>6</th>\n      <td>307170, Курская область, г ЖЕЛЕЗНОГОРСК, ул Ко...</td>\n      <td>52.333051, 35.356863</td>\n    </tr>\n    <tr>\n      <th>7</th>\n      <td>396700, Воронежская область, р-н Кантемировски...</td>\n      <td>49.970266, 39.705482</td>\n    </tr>\n    <tr>\n      <th>8</th>\n      <td>307170, Курская область, р-н Железногорский, г...</td>\n      <td>52.344326, 35.354797</td>\n    </tr>\n    <tr>\n      <th>9</th>\n      <td>309500, Белгородская область, р-н Старооскольс...</td>\n      <td>51.283537, 37.834399</td>\n    </tr>\n  </tbody>\n</table>\n</div>"
     },
     "execution_count": 11,
     "metadata": {},
     "output_type": "execute_result"
    }
   ],
   "source": [
    "#Координаты адресов\n",
    "atress_coord_df.head(10)"
   ],
   "metadata": {
    "collapsed": false
   }
  },
  {
   "cell_type": "code",
   "execution_count": 12,
   "id": "e464318c",
   "metadata": {},
   "outputs": [
    {
     "data": {
      "text/plain": "[(49.8384, 39.23),\n (49.8444, 39.2218),\n (49.8498, 39.2224),\n (49.8503, 39.2136),\n (49.8557, 39.2142),\n (49.8617, 39.2059),\n (49.8622, 39.1971),\n (49.8676, 39.1976),\n (49.8735, 39.1893),\n (49.8794, 39.1865)]"
     },
     "execution_count": 12,
     "metadata": {},
     "output_type": "execute_result"
    }
   ],
   "source": [
    "#Координаты точек границы\n",
    "list_border_coord[0:10]"
   ]
  },
  {
   "cell_type": "markdown",
   "source": [
    "###  Рассчитываем расстояние"
   ],
   "metadata": {
    "collapsed": false
   }
  },
  {
   "cell_type": "code",
   "execution_count": 13,
   "id": "8d534f61",
   "metadata": {},
   "outputs": [],
   "source": [
    "def distance_calculation(start_coord):\n",
    "    list_dist = []\n",
    "    for bord_coord in list_border_coord:\n",
    "\n",
    "        #Для расчета расстояния используем функцию GD([1 координаты точки],[2 координаты точки].[единица измерения расстояния])\n",
    "        dist = GD(start_coord, bord_coord).km\n",
    "\n",
    "        #Добовляем в список результат\n",
    "        list_dist.append(dist)\n",
    "    \n",
    "    #Возвращаем минимальную дистанцию из списке\n",
    "    return min(list_dist)"
   ]
  },
  {
   "cell_type": "code",
   "execution_count": 14,
   "id": "3644c786",
   "metadata": {},
   "outputs": [
    {
     "name": "stderr",
     "output_type": "stream",
     "text": [
      "100%|██████████| 501/501 [01:11<00:00,  7.02it/s]\n"
     ]
    }
   ],
   "source": [
    "tqdm.pandas()\n",
    "atress_coord_df['dist_to_bor'] = atress_coord_df['coord'].progress_apply(lambda x: distance_calculation(x))"
   ]
  },
  {
   "cell_type": "markdown",
   "id": "5d8b7001",
   "metadata": {},
   "source": [
    "### Просматриваем и проверяем результат"
   ]
  },
  {
   "cell_type": "code",
   "execution_count": 15,
   "id": "5300523c",
   "metadata": {},
   "outputs": [
    {
     "data": {
      "text/plain": "                                              adress                 coord  \\\n0  Белгородская область, г. Белгород, ул. Серафим...  50.587197, 36.620164   \n1  Белгородская область, г Белгорд, ул имени Шуми...  50.565706, 36.604434   \n2  Белгородская область, г Белгород, ул генерала-...  50.595414, 36.587277   \n3  307170, Курская область, г. Железногорск, ул. ...  52.339203, 35.350871   \n4             курская обл. п. Тим ул. Юбилейная д.34  51.627241, 37.129500   \n5  396650, Воронежская область, г Россошь, ул Л.Т...  50.203872, 39.566270   \n6  307170, Курская область, г ЖЕЛЕЗНОГОРСК, ул Ко...  52.333051, 35.356863   \n7  396700, Воронежская область, р-н Кантемировски...  49.970266, 39.705482   \n8  307170, Курская область, р-н Железногорский, г...  52.344326, 35.354797   \n9  309500, Белгородская область, р-н Старооскольс...  51.283537, 37.834399   \n\n   dist_to_bor  \n0    30.275355  \n1    27.640944  \n2    30.340558  \n3    85.145191  \n4   134.815118  \n5    45.195404  \n6    85.016395  \n7    26.211812  \n8    85.718753  \n9    97.385514  ",
      "text/html": "<div>\n<style scoped>\n    .dataframe tbody tr th:only-of-type {\n        vertical-align: middle;\n    }\n\n    .dataframe tbody tr th {\n        vertical-align: top;\n    }\n\n    .dataframe thead th {\n        text-align: right;\n    }\n</style>\n<table border=\"1\" class=\"dataframe\">\n  <thead>\n    <tr style=\"text-align: right;\">\n      <th></th>\n      <th>adress</th>\n      <th>coord</th>\n      <th>dist_to_bor</th>\n    </tr>\n  </thead>\n  <tbody>\n    <tr>\n      <th>0</th>\n      <td>Белгородская область, г. Белгород, ул. Серафим...</td>\n      <td>50.587197, 36.620164</td>\n      <td>30.275355</td>\n    </tr>\n    <tr>\n      <th>1</th>\n      <td>Белгородская область, г Белгорд, ул имени Шуми...</td>\n      <td>50.565706, 36.604434</td>\n      <td>27.640944</td>\n    </tr>\n    <tr>\n      <th>2</th>\n      <td>Белгородская область, г Белгород, ул генерала-...</td>\n      <td>50.595414, 36.587277</td>\n      <td>30.340558</td>\n    </tr>\n    <tr>\n      <th>3</th>\n      <td>307170, Курская область, г. Железногорск, ул. ...</td>\n      <td>52.339203, 35.350871</td>\n      <td>85.145191</td>\n    </tr>\n    <tr>\n      <th>4</th>\n      <td>курская обл. п. Тим ул. Юбилейная д.34</td>\n      <td>51.627241, 37.129500</td>\n      <td>134.815118</td>\n    </tr>\n    <tr>\n      <th>5</th>\n      <td>396650, Воронежская область, г Россошь, ул Л.Т...</td>\n      <td>50.203872, 39.566270</td>\n      <td>45.195404</td>\n    </tr>\n    <tr>\n      <th>6</th>\n      <td>307170, Курская область, г ЖЕЛЕЗНОГОРСК, ул Ко...</td>\n      <td>52.333051, 35.356863</td>\n      <td>85.016395</td>\n    </tr>\n    <tr>\n      <th>7</th>\n      <td>396700, Воронежская область, р-н Кантемировски...</td>\n      <td>49.970266, 39.705482</td>\n      <td>26.211812</td>\n    </tr>\n    <tr>\n      <th>8</th>\n      <td>307170, Курская область, р-н Железногорский, г...</td>\n      <td>52.344326, 35.354797</td>\n      <td>85.718753</td>\n    </tr>\n    <tr>\n      <th>9</th>\n      <td>309500, Белгородская область, р-н Старооскольс...</td>\n      <td>51.283537, 37.834399</td>\n      <td>97.385514</td>\n    </tr>\n  </tbody>\n</table>\n</div>"
     },
     "execution_count": 15,
     "metadata": {},
     "output_type": "execute_result"
    }
   ],
   "source": [
    "atress_coord_df.head(10)"
   ]
  }
 ],
 "metadata": {
  "kernelspec": {
   "display_name": "Python 3 (ipykernel)",
   "language": "python",
   "name": "python3"
  },
  "language_info": {
   "codemirror_mode": {
    "name": "ipython",
    "version": 3
   },
   "file_extension": ".py",
   "mimetype": "text/x-python",
   "name": "python",
   "nbconvert_exporter": "python",
   "pygments_lexer": "ipython3",
   "version": "3.9.13"
  }
 },
 "nbformat": 4,
 "nbformat_minor": 5
}
